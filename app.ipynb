{
 "cells": [
  {
   "cell_type": "code",
   "execution_count": null,
   "id": "11ef001b-f968-478c-a1d8-14331feb4fd8",
   "metadata": {},
   "outputs": [],
   "source": []
  }
 ],
 "metadata": {
  "kernelspec": {
   "display_name": "",
   "name": ""
  },
  "language_info": {
   "name": ""
  }
 },
 "nbformat": 4,
 "nbformat_minor": 5
}
