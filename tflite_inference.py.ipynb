{
 "cells": [
  {
   "cell_type": "code",
   "execution_count": 14,
   "id": "796040d1-8f5c-4b24-beb3-13760275f1ce",
   "metadata": {},
   "outputs": [
    {
     "name": "stderr",
     "output_type": "stream",
     "text": [
      "WARNING:absl:Compiled the loaded model, but the compiled metrics have yet to be built. `model.compile_metrics` will be empty until you train or evaluate the model.\n"
     ]
    },
    {
     "name": "stdout",
     "output_type": "stream",
     "text": [
      "INFO:tensorflow:Assets written to: C:\\Users\\KALIND~1\\AppData\\Local\\Temp\\tmpxisblswe\\assets\n"
     ]
    },
    {
     "name": "stderr",
     "output_type": "stream",
     "text": [
      "INFO:tensorflow:Assets written to: C:\\Users\\KALIND~1\\AppData\\Local\\Temp\\tmpxisblswe\\assets\n"
     ]
    },
    {
     "name": "stdout",
     "output_type": "stream",
     "text": [
      "Saved artifact at 'C:\\Users\\KALIND~1\\AppData\\Local\\Temp\\tmpxisblswe'. The following endpoints are available:\n",
      "\n",
      "* Endpoint 'serve'\n",
      "  args_0 (POSITIONAL_ONLY): TensorSpec(shape=(None, 16, 64, 64, 3), dtype=tf.float32, name='input_layer')\n",
      "Output Type:\n",
      "  TensorSpec(shape=(None, 1), dtype=tf.float32, name=None)\n",
      "Captures:\n",
      "  2568632340304: TensorSpec(shape=(), dtype=tf.resource, name=None)\n",
      "  2568681628752: TensorSpec(shape=(), dtype=tf.resource, name=None)\n",
      "  2568681629520: TensorSpec(shape=(), dtype=tf.resource, name=None)\n",
      "  2568681629904: TensorSpec(shape=(), dtype=tf.resource, name=None)\n",
      "  2568681630096: TensorSpec(shape=(), dtype=tf.resource, name=None)\n",
      "  2568681630480: TensorSpec(shape=(), dtype=tf.resource, name=None)\n",
      "  2568681627984: TensorSpec(shape=(), dtype=tf.resource, name=None)\n",
      "  2568681627408: TensorSpec(shape=(), dtype=tf.resource, name=None)\n",
      "  2568681624336: TensorSpec(shape=(), dtype=tf.resource, name=None)\n",
      "  2568681625104: TensorSpec(shape=(), dtype=tf.resource, name=None)\n",
      "✅ Model converted with Flex ops and saved.\n"
     ]
    }
   ],
   "source": [
    "import tensorflow as tf\n",
    "\n",
    "# Load your model\n",
    "model = tf.keras.models.load_model(\"violence_detection_model (1).h5\")\n",
    "\n",
    "# Setup converter\n",
    "converter = tf.lite.TFLiteConverter.from_keras_model(model)\n",
    "converter.target_spec.supported_ops = [\n",
    "    tf.lite.OpsSet.TFLITE_BUILTINS,\n",
    "    tf.lite.OpsSet.SELECT_TF_OPS  # enable unsupported ops (like MaxPool3D)\n",
    "]\n",
    "\n",
    "# Optional: reduce size\n",
    "# converter.optimizations = [tf.lite.Optimize.DEFAULT]\n",
    "\n",
    "# Convert and save\n",
    "tflite_model = converter.convert()\n",
    "\n",
    "with open(\"violence_model.tflite\", \"wb\") as f:\n",
    "    f.write(tflite_model)\n",
    "\n",
    "print(\"✅ Model converted with Flex ops and saved.\")\n"
   ]
  },
  {
   "cell_type": "code",
   "execution_count": null,
   "id": "4896e005-4033-4724-960c-ad05e2b1824e",
   "metadata": {},
   "outputs": [],
   "source": []
  }
 ],
 "metadata": {
  "kernelspec": {
   "display_name": "Python [conda env:base] *",
   "language": "python",
   "name": "conda-base-py"
  },
  "language_info": {
   "codemirror_mode": {
    "name": "ipython",
    "version": 3
   },
   "file_extension": ".py",
   "mimetype": "text/x-python",
   "name": "python",
   "nbconvert_exporter": "python",
   "pygments_lexer": "ipython3",
   "version": "3.12.7"
  }
 },
 "nbformat": 4,
 "nbformat_minor": 5
}
